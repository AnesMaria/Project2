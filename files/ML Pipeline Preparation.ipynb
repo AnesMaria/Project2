{
 "cells": [
  {
   "cell_type": "markdown",
   "metadata": {},
   "source": [
    "# ML Pipeline Preparation\n",
    "Follow the instructions below to help you create your ML pipeline.\n",
    "### 1. Import libraries and load data from database.\n",
    "- Import Python libraries\n",
    "- Load dataset from database with [`read_sql_table`](https://pandas.pydata.org/pandas-docs/stable/generated/pandas.read_sql_table.html)\n",
    "- Define feature and target variables X and Y"
   ]
  },
  {
   "cell_type": "code",
   "execution_count": 1,
   "metadata": {},
   "outputs": [
    {
     "name": "stdout",
     "output_type": "stream",
     "text": [
      "[nltk_data] Downloading package punkt to /root/nltk_data...\n",
      "[nltk_data]   Package punkt is already up-to-date!\n",
      "[nltk_data] Downloading package wordnet to /root/nltk_data...\n",
      "[nltk_data]   Package wordnet is already up-to-date!\n"
     ]
    }
   ],
   "source": [
    "# import libraries\n",
    "import nltk\n",
    "nltk.download(['punkt', 'wordnet'])\n",
    "import pandas as pd\n",
    "import numpy as np\n",
    "from sqlalchemy import create_engine\n",
    "import inspect\n",
    "import pickle\n",
    "from nltk import word_tokenize\n",
    "from nltk.stem import WordNetLemmatizer\n",
    "\n",
    "from sklearn.pipeline import Pipeline\n",
    "from sklearn.model_selection import train_test_split\n",
    "from sklearn.ensemble import RandomForestClassifier\n",
    "from sklearn.feature_extraction.text import CountVectorizer, TfidfTransformer\n",
    "from sklearn.multioutput import MultiOutputClassifier\n",
    "from sklearn.metrics import classification_report\n",
    "from sklearn.model_selection import GridSearchCV\n"
   ]
  },
  {
   "cell_type": "code",
   "execution_count": 2,
   "metadata": {},
   "outputs": [],
   "source": [
    "# load data from database\n",
    "database_filepath = \"InsertDatabaseName.db\"\n",
    "engine = create_engine('sqlite:///'+database_filepath)\n",
    "\n"
   ]
  },
  {
   "cell_type": "code",
   "execution_count": 3,
   "metadata": {},
   "outputs": [
    {
     "name": "stdout",
     "output_type": "stream",
     "text": [
      "/workspace/home/InsertDatabaseName.db\n"
     ]
    }
   ],
   "source": [
    "import os\n",
    "database_filepath = \"InsertDatabaseName.db\"\n",
    "absolute_path = os.path.abspath(database_filepath)\n",
    "print(absolute_path)"
   ]
  },
  {
   "cell_type": "code",
   "execution_count": 4,
   "metadata": {},
   "outputs": [
    {
     "name": "stdout",
     "output_type": "stream",
     "text": [
      "Weather update - a cold front from Cuba that could pass over Haiti\n",
      "   related  request  offer  aid_related  medical_help  medical_products  \\\n",
      "0        1        0      0            0             0                 0   \n",
      "\n",
      "   search_and_rescue  security  military  child_alone      ...        \\\n",
      "0                  0         0         0            0      ...         \n",
      "\n",
      "   aid_centers  other_infrastructure  weather_related  floods  storm  fire  \\\n",
      "0            0                     0                0       0      0     0   \n",
      "\n",
      "   earthquake  cold  other_weather  direct_report  \n",
      "0           0     0              0              0  \n",
      "\n",
      "[1 rows x 36 columns]\n"
     ]
    }
   ],
   "source": [
    "df = pd.read_sql_table('data', engine)  \n",
    "\n",
    "X = df.message\n",
    "print(X[0])\n",
    "\n",
    "Y = df[df.columns[4:]]\n",
    "\n",
    "\n",
    "print(Y.iloc[[0]])"
   ]
  },
  {
   "cell_type": "code",
   "execution_count": 5,
   "metadata": {},
   "outputs": [
    {
     "name": "stdout",
     "output_type": "stream",
     "text": [
      "Index(['id', 'message', 'original', 'genre', 'related', 'request', 'offer',\n",
      "       'aid_related', 'medical_help', 'medical_products', 'search_and_rescue',\n",
      "       'security', 'military', 'child_alone', 'water', 'food', 'shelter',\n",
      "       'clothing', 'money', 'missing_people', 'refugees', 'death', 'other_aid',\n",
      "       'infrastructure_related', 'transport', 'buildings', 'electricity',\n",
      "       'tools', 'hospitals', 'shops', 'aid_centers', 'other_infrastructure',\n",
      "       'weather_related', 'floods', 'storm', 'fire', 'earthquake', 'cold',\n",
      "       'other_weather', 'direct_report'],\n",
      "      dtype='object')\n"
     ]
    }
   ],
   "source": [
    "print(df.columns)"
   ]
  },
  {
   "cell_type": "code",
   "execution_count": 6,
   "metadata": {},
   "outputs": [
    {
     "name": "stdout",
     "output_type": "stream",
     "text": [
      "     original\n",
      "7423     None\n",
      "9891     None\n",
      "9892     None\n",
      "9893     None\n",
      "9894     None\n"
     ]
    }
   ],
   "source": [
    "null_columns = df.columns[df.isnull().any()]\n",
    "print(df[df.isnull().any(axis=1)][null_columns].head())\n",
    "df.fillna(0, inplace=True)\n",
    "df.dropna(inplace=True)"
   ]
  },
  {
   "cell_type": "code",
   "execution_count": 7,
   "metadata": {},
   "outputs": [],
   "source": [
    "X = df['message']\n",
    "y = df.drop(['message'], axis=1)"
   ]
  },
  {
   "cell_type": "markdown",
   "metadata": {},
   "source": [
    "### 2. Write a tokenization function to process your text data"
   ]
  },
  {
   "cell_type": "code",
   "execution_count": 8,
   "metadata": {},
   "outputs": [],
   "source": [
    "def tokenize(text):\n",
    "    tokens = word_tokenize(text)\n",
    "    lemmatizer = WordNetLemmatizer()\n",
    "\n",
    "    clean_tokens = []\n",
    "    for tok in tokens:\n",
    "        clean_tok = lemmatizer.lemmatize(tok).lower().strip()\n",
    "        clean_tokens.append(clean_tok)\n",
    "\n",
    "    return clean_tokens"
   ]
  },
  {
   "cell_type": "markdown",
   "metadata": {},
   "source": [
    "### 3. Build a machine learning pipeline\n",
    "This machine pipeline should take in the `message` column as input and output classification results on the other 36 categories in the dataset. You may find the [MultiOutputClassifier](http://scikit-learn.org/stable/modules/generated/sklearn.multioutput.MultiOutputClassifier.html) helpful for predicting multiple target variables."
   ]
  },
  {
   "cell_type": "code",
   "execution_count": 9,
   "metadata": {},
   "outputs": [],
   "source": [
    "pipeline =  Pipeline([\n",
    "        ('vect', CountVectorizer(tokenizer=tokenize)),\n",
    "        ('tfidf', TfidfTransformer()),\n",
    "        ('clf', MultiOutputClassifier(RandomForestClassifier()))\n",
    "    ])"
   ]
  },
  {
   "cell_type": "markdown",
   "metadata": {},
   "source": [
    "### 4. Train pipeline\n",
    "- Split data into train and test sets\n",
    "- Train pipeline"
   ]
  },
  {
   "cell_type": "code",
   "execution_count": 10,
   "metadata": {},
   "outputs": [],
   "source": [
    "# Spiliting data inti train and test\n",
    "X_train, X_test, y_train, y_test = train_test_split(X, Y)"
   ]
  },
  {
   "cell_type": "code",
   "execution_count": 11,
   "metadata": {},
   "outputs": [
    {
     "data": {
      "text/plain": [
       "Pipeline(memory=None,\n",
       "     steps=[('vect', CountVectorizer(analyzer='word', binary=False, decode_error='strict',\n",
       "        dtype=<class 'numpy.int64'>, encoding='utf-8', input='content',\n",
       "        lowercase=True, max_df=1.0, max_features=None, min_df=1,\n",
       "        ngram_range=(1, 1), preprocessor=None, stop_words=None,\n",
       "        strip...oob_score=False, random_state=None, verbose=0,\n",
       "            warm_start=False),\n",
       "           n_jobs=1))])"
      ]
     },
     "execution_count": 11,
     "metadata": {},
     "output_type": "execute_result"
    }
   ],
   "source": [
    "# Fit our classifier\n",
    "pipeline.fit(X_train, y_train)"
   ]
  },
  {
   "cell_type": "markdown",
   "metadata": {},
   "source": [
    "### 5. Test your model\n",
    "Report the f1 score, precision and recall for each output category of the dataset. You can do this by iterating through the columns and calling sklearn's `classification_report` on each."
   ]
  },
  {
   "cell_type": "code",
   "execution_count": 12,
   "metadata": {},
   "outputs": [],
   "source": [
    "def plot_scores(y_test, y_pred):\n",
    "    #colomns/ features\n",
    "    feature_names = y_test.columns\n",
    "    \n",
    "    # calculate the report classification for each features\n",
    "    for i, feature_name in enumerate(feature_names, start=1):\n",
    "        print(f'Feature {i}: {feature_name}')\n",
    "        print(classification_report(y_test[feature_name], y_pred[:, i-1]))\n",
    "    accuracy = np.mean(y_pred == y_test.values)\n",
    "    print(f'The model accuracy is {accuracy:.3f}')"
   ]
  },
  {
   "cell_type": "code",
   "execution_count": 13,
   "metadata": {},
   "outputs": [
    {
     "name": "stdout",
     "output_type": "stream",
     "text": [
      "Feature 1: related\n",
      "             precision    recall  f1-score   support\n",
      "\n",
      "          0       0.64      0.36      0.46      1533\n",
      "          1       0.82      0.94      0.87      4974\n",
      "          2       0.40      0.09      0.14        47\n",
      "\n",
      "avg / total       0.77      0.79      0.77      6554\n",
      "\n",
      "Feature 2: request\n",
      "             precision    recall  f1-score   support\n",
      "\n",
      "          0       0.89      0.98      0.93      5453\n",
      "          1       0.81      0.38      0.51      1101\n",
      "\n",
      "avg / total       0.87      0.88      0.86      6554\n",
      "\n",
      "Feature 3: offer\n",
      "             precision    recall  f1-score   support\n",
      "\n",
      "          0       1.00      1.00      1.00      6528\n",
      "          1       0.00      0.00      0.00        26\n",
      "\n",
      "avg / total       0.99      1.00      0.99      6554\n",
      "\n",
      "Feature 4: aid_related\n",
      "             precision    recall  f1-score   support\n",
      "\n",
      "          0       0.73      0.87      0.79      3851\n",
      "          1       0.74      0.54      0.62      2703\n",
      "\n",
      "avg / total       0.73      0.73      0.72      6554\n",
      "\n",
      "Feature 5: medical_help\n",
      "             precision    recall  f1-score   support\n",
      "\n",
      "          0       0.92      1.00      0.96      6026\n",
      "          1       0.57      0.06      0.11       528\n",
      "\n",
      "avg / total       0.90      0.92      0.89      6554\n",
      "\n",
      "Feature 6: medical_products\n",
      "             precision    recall  f1-score   support\n",
      "\n",
      "          0       0.95      1.00      0.97      6194\n",
      "          1       0.63      0.05      0.10       360\n",
      "\n",
      "avg / total       0.93      0.95      0.92      6554\n",
      "\n",
      "Feature 7: search_and_rescue\n",
      "             precision    recall  f1-score   support\n",
      "\n",
      "          0       0.98      1.00      0.99      6380\n",
      "          1       0.78      0.08      0.15       174\n",
      "\n",
      "avg / total       0.97      0.97      0.96      6554\n",
      "\n",
      "Feature 8: security\n",
      "             precision    recall  f1-score   support\n",
      "\n",
      "          0       0.98      1.00      0.99      6437\n",
      "          1       0.33      0.01      0.02       117\n",
      "\n",
      "avg / total       0.97      0.98      0.97      6554\n",
      "\n",
      "Feature 9: military\n",
      "             precision    recall  f1-score   support\n",
      "\n",
      "          0       0.97      1.00      0.98      6346\n",
      "          1       0.59      0.08      0.14       208\n",
      "\n",
      "avg / total       0.96      0.97      0.96      6554\n",
      "\n",
      "Feature 10: child_alone\n",
      "             precision    recall  f1-score   support\n",
      "\n",
      "          0       1.00      1.00      1.00      6554\n",
      "\n",
      "avg / total       1.00      1.00      1.00      6554\n",
      "\n",
      "Feature 11: water\n",
      "             precision    recall  f1-score   support\n",
      "\n",
      "          0       0.95      1.00      0.97      6112\n",
      "          1       0.91      0.24      0.37       442\n",
      "\n",
      "avg / total       0.95      0.95      0.93      6554\n",
      "\n",
      "Feature 12: food\n",
      "             precision    recall  f1-score   support\n",
      "\n",
      "          0       0.92      0.99      0.96      5813\n",
      "          1       0.86      0.33      0.48       741\n",
      "\n",
      "avg / total       0.91      0.92      0.90      6554\n",
      "\n",
      "Feature 13: shelter\n",
      "             precision    recall  f1-score   support\n",
      "\n",
      "          0       0.93      0.99      0.96      5978\n",
      "          1       0.79      0.27      0.41       576\n",
      "\n",
      "avg / total       0.92      0.93      0.91      6554\n",
      "\n",
      "Feature 14: clothing\n",
      "             precision    recall  f1-score   support\n",
      "\n",
      "          0       0.98      1.00      0.99      6439\n",
      "          1       0.71      0.09      0.16       115\n",
      "\n",
      "avg / total       0.98      0.98      0.98      6554\n",
      "\n",
      "Feature 15: money\n",
      "             precision    recall  f1-score   support\n",
      "\n",
      "          0       0.98      1.00      0.99      6399\n",
      "          1       0.78      0.09      0.16       155\n",
      "\n",
      "avg / total       0.97      0.98      0.97      6554\n",
      "\n",
      "Feature 16: missing_people\n",
      "             precision    recall  f1-score   support\n",
      "\n",
      "          0       0.99      1.00      0.99      6486\n",
      "          1       0.00      0.00      0.00        68\n",
      "\n",
      "avg / total       0.98      0.99      0.98      6554\n",
      "\n",
      "Feature 17: refugees\n",
      "             precision    recall  f1-score   support\n",
      "\n",
      "          0       0.97      1.00      0.98      6335\n",
      "          1       0.53      0.04      0.07       219\n",
      "\n",
      "avg / total       0.95      0.97      0.95      6554\n",
      "\n",
      "Feature 18: death\n",
      "             precision    recall  f1-score   support\n",
      "\n",
      "          0       0.96      1.00      0.98      6280\n",
      "          1       0.81      0.14      0.24       274\n",
      "\n",
      "avg / total       0.96      0.96      0.95      6554\n",
      "\n",
      "Feature 19: other_aid\n",
      "             precision    recall  f1-score   support\n",
      "\n",
      "          0       0.87      1.00      0.93      5706\n",
      "          1       0.39      0.02      0.03       848\n",
      "\n",
      "avg / total       0.81      0.87      0.81      6554\n",
      "\n",
      "Feature 20: infrastructure_related\n",
      "             precision    recall  f1-score   support\n",
      "\n",
      "          0       0.93      1.00      0.96      6083\n",
      "          1       0.17      0.00      0.00       471\n",
      "\n",
      "avg / total       0.87      0.93      0.89      6554\n",
      "\n",
      "Feature 21: transport\n",
      "             precision    recall  f1-score   support\n",
      "\n",
      "          0       0.95      1.00      0.98      6241\n",
      "          1       0.46      0.04      0.07       313\n",
      "\n",
      "avg / total       0.93      0.95      0.93      6554\n",
      "\n",
      "Feature 22: buildings\n",
      "             precision    recall  f1-score   support\n",
      "\n",
      "          0       0.95      1.00      0.97      6212\n",
      "          1       0.64      0.07      0.12       342\n",
      "\n",
      "avg / total       0.93      0.95      0.93      6554\n",
      "\n",
      "Feature 23: electricity\n",
      "             precision    recall  f1-score   support\n",
      "\n",
      "          0       0.98      1.00      0.99      6419\n",
      "          1       0.50      0.01      0.01       135\n",
      "\n",
      "avg / total       0.97      0.98      0.97      6554\n",
      "\n",
      "Feature 24: tools\n",
      "             precision    recall  f1-score   support\n",
      "\n",
      "          0       0.99      1.00      1.00      6509\n",
      "          1       0.00      0.00      0.00        45\n",
      "\n",
      "avg / total       0.99      0.99      0.99      6554\n",
      "\n",
      "Feature 25: hospitals\n",
      "             precision    recall  f1-score   support\n",
      "\n",
      "          0       0.99      1.00      0.99      6476\n",
      "          1       0.00      0.00      0.00        78\n",
      "\n",
      "avg / total       0.98      0.99      0.98      6554\n",
      "\n",
      "Feature 26: shops\n",
      "             precision    recall  f1-score   support\n",
      "\n",
      "          0       1.00      1.00      1.00      6524\n",
      "          1       0.00      0.00      0.00        30\n",
      "\n",
      "avg / total       0.99      1.00      0.99      6554\n",
      "\n",
      "Feature 27: aid_centers\n",
      "             precision    recall  f1-score   support\n",
      "\n",
      "          0       0.99      1.00      0.99      6466\n",
      "          1       0.00      0.00      0.00        88\n",
      "\n",
      "avg / total       0.97      0.99      0.98      6554\n",
      "\n",
      "Feature 28: other_infrastructure\n",
      "             precision    recall  f1-score   support\n",
      "\n",
      "          0       0.95      1.00      0.97      6236\n",
      "          1       0.00      0.00      0.00       318\n",
      "\n",
      "avg / total       0.91      0.95      0.93      6554\n",
      "\n",
      "Feature 29: weather_related\n",
      "             precision    recall  f1-score   support\n",
      "\n",
      "          0       0.84      0.97      0.90      4713\n",
      "          1       0.86      0.55      0.67      1841\n",
      "\n",
      "avg / total       0.85      0.85      0.84      6554\n",
      "\n",
      "Feature 30: floods\n",
      "             precision    recall  f1-score   support\n",
      "\n",
      "          0       0.93      1.00      0.96      6001\n",
      "          1       0.86      0.20      0.33       553\n",
      "\n",
      "avg / total       0.93      0.93      0.91      6554\n",
      "\n",
      "Feature 31: storm\n",
      "             precision    recall  f1-score   support\n",
      "\n",
      "          0       0.94      0.99      0.96      5941\n",
      "          1       0.74      0.35      0.48       613\n",
      "\n",
      "avg / total       0.92      0.93      0.92      6554\n",
      "\n",
      "Feature 32: fire\n",
      "             precision    recall  f1-score   support\n",
      "\n",
      "          0       0.99      1.00      0.99      6480\n",
      "          1       0.67      0.03      0.05        74\n",
      "\n",
      "avg / total       0.99      0.99      0.98      6554\n",
      "\n",
      "Feature 33: earthquake\n",
      "             precision    recall  f1-score   support\n",
      "\n",
      "          0       0.97      0.99      0.98      5939\n",
      "          1       0.89      0.73      0.80       615\n",
      "\n",
      "avg / total       0.97      0.97      0.96      6554\n",
      "\n",
      "Feature 34: cold\n",
      "             precision    recall  f1-score   support\n",
      "\n",
      "          0       0.98      1.00      0.99      6412\n",
      "          1       0.70      0.05      0.09       142\n",
      "\n",
      "avg / total       0.97      0.98      0.97      6554\n",
      "\n",
      "Feature 35: other_weather\n",
      "             precision    recall  f1-score   support\n",
      "\n",
      "          0       0.95      1.00      0.97      6204\n",
      "          1       0.45      0.01      0.03       350\n",
      "\n",
      "avg / total       0.92      0.95      0.92      6554\n",
      "\n",
      "Feature 36: direct_report\n",
      "             precision    recall  f1-score   support\n",
      "\n",
      "          0       0.86      0.98      0.92      5301\n",
      "          1       0.78      0.33      0.46      1253\n",
      "\n",
      "avg / total       0.85      0.85      0.83      6554\n",
      "\n",
      "The model accuracy is 0.942\n"
     ]
    },
    {
     "name": "stderr",
     "output_type": "stream",
     "text": [
      "/opt/conda/lib/python3.6/site-packages/sklearn/metrics/classification.py:1135: UndefinedMetricWarning: Precision and F-score are ill-defined and being set to 0.0 in labels with no predicted samples.\n",
      "  'precision', 'predicted', average, warn_for)\n"
     ]
    }
   ],
   "source": [
    "# Prediction\n",
    "y_pred = pipeline.predict(X_test)\n",
    "plot_scores(y_test, y_pred)\n"
   ]
  },
  {
   "cell_type": "markdown",
   "metadata": {},
   "source": [
    "### 6. Improve your model\n",
    "Use grid search to find better parameters. "
   ]
  },
  {
   "cell_type": "code",
   "execution_count": 14,
   "metadata": {},
   "outputs": [
    {
     "data": {
      "text/plain": [
       "{'memory': None,\n",
       " 'steps': [('vect',\n",
       "   CountVectorizer(analyzer='word', binary=False, decode_error='strict',\n",
       "           dtype=<class 'numpy.int64'>, encoding='utf-8', input='content',\n",
       "           lowercase=True, max_df=1.0, max_features=None, min_df=1,\n",
       "           ngram_range=(1, 1), preprocessor=None, stop_words=None,\n",
       "           strip_accents=None, token_pattern='(?u)\\\\b\\\\w\\\\w+\\\\b',\n",
       "           tokenizer=<function tokenize at 0x7fe0372502f0>, vocabulary=None)),\n",
       "  ('tfidf',\n",
       "   TfidfTransformer(norm='l2', smooth_idf=True, sublinear_tf=False, use_idf=True)),\n",
       "  ('clf',\n",
       "   MultiOutputClassifier(estimator=RandomForestClassifier(bootstrap=True, class_weight=None, criterion='gini',\n",
       "               max_depth=None, max_features='auto', max_leaf_nodes=None,\n",
       "               min_impurity_decrease=0.0, min_impurity_split=None,\n",
       "               min_samples_leaf=1, min_samples_split=2,\n",
       "               min_weight_fraction_leaf=0.0, n_estimators=10, n_jobs=1,\n",
       "               oob_score=False, random_state=None, verbose=0,\n",
       "               warm_start=False),\n",
       "              n_jobs=1))],\n",
       " 'vect': CountVectorizer(analyzer='word', binary=False, decode_error='strict',\n",
       "         dtype=<class 'numpy.int64'>, encoding='utf-8', input='content',\n",
       "         lowercase=True, max_df=1.0, max_features=None, min_df=1,\n",
       "         ngram_range=(1, 1), preprocessor=None, stop_words=None,\n",
       "         strip_accents=None, token_pattern='(?u)\\\\b\\\\w\\\\w+\\\\b',\n",
       "         tokenizer=<function tokenize at 0x7fe0372502f0>, vocabulary=None),\n",
       " 'tfidf': TfidfTransformer(norm='l2', smooth_idf=True, sublinear_tf=False, use_idf=True),\n",
       " 'clf': MultiOutputClassifier(estimator=RandomForestClassifier(bootstrap=True, class_weight=None, criterion='gini',\n",
       "             max_depth=None, max_features='auto', max_leaf_nodes=None,\n",
       "             min_impurity_decrease=0.0, min_impurity_split=None,\n",
       "             min_samples_leaf=1, min_samples_split=2,\n",
       "             min_weight_fraction_leaf=0.0, n_estimators=10, n_jobs=1,\n",
       "             oob_score=False, random_state=None, verbose=0,\n",
       "             warm_start=False),\n",
       "            n_jobs=1),\n",
       " 'vect__analyzer': 'word',\n",
       " 'vect__binary': False,\n",
       " 'vect__decode_error': 'strict',\n",
       " 'vect__dtype': numpy.int64,\n",
       " 'vect__encoding': 'utf-8',\n",
       " 'vect__input': 'content',\n",
       " 'vect__lowercase': True,\n",
       " 'vect__max_df': 1.0,\n",
       " 'vect__max_features': None,\n",
       " 'vect__min_df': 1,\n",
       " 'vect__ngram_range': (1, 1),\n",
       " 'vect__preprocessor': None,\n",
       " 'vect__stop_words': None,\n",
       " 'vect__strip_accents': None,\n",
       " 'vect__token_pattern': '(?u)\\\\b\\\\w\\\\w+\\\\b',\n",
       " 'vect__tokenizer': <function __main__.tokenize(text)>,\n",
       " 'vect__vocabulary': None,\n",
       " 'tfidf__norm': 'l2',\n",
       " 'tfidf__smooth_idf': True,\n",
       " 'tfidf__sublinear_tf': False,\n",
       " 'tfidf__use_idf': True,\n",
       " 'clf__estimator__bootstrap': True,\n",
       " 'clf__estimator__class_weight': None,\n",
       " 'clf__estimator__criterion': 'gini',\n",
       " 'clf__estimator__max_depth': None,\n",
       " 'clf__estimator__max_features': 'auto',\n",
       " 'clf__estimator__max_leaf_nodes': None,\n",
       " 'clf__estimator__min_impurity_decrease': 0.0,\n",
       " 'clf__estimator__min_impurity_split': None,\n",
       " 'clf__estimator__min_samples_leaf': 1,\n",
       " 'clf__estimator__min_samples_split': 2,\n",
       " 'clf__estimator__min_weight_fraction_leaf': 0.0,\n",
       " 'clf__estimator__n_estimators': 10,\n",
       " 'clf__estimator__n_jobs': 1,\n",
       " 'clf__estimator__oob_score': False,\n",
       " 'clf__estimator__random_state': None,\n",
       " 'clf__estimator__verbose': 0,\n",
       " 'clf__estimator__warm_start': False,\n",
       " 'clf__estimator': RandomForestClassifier(bootstrap=True, class_weight=None, criterion='gini',\n",
       "             max_depth=None, max_features='auto', max_leaf_nodes=None,\n",
       "             min_impurity_decrease=0.0, min_impurity_split=None,\n",
       "             min_samples_leaf=1, min_samples_split=2,\n",
       "             min_weight_fraction_leaf=0.0, n_estimators=10, n_jobs=1,\n",
       "             oob_score=False, random_state=None, verbose=0,\n",
       "             warm_start=False),\n",
       " 'clf__n_jobs': 1}"
      ]
     },
     "execution_count": 14,
     "metadata": {},
     "output_type": "execute_result"
    }
   ],
   "source": [
    "# displaying the different parameters for the pipline\n",
    "pipeline.get_params()\n",
    "    "
   ]
  },
  {
   "cell_type": "code",
   "execution_count": 15,
   "metadata": {},
   "outputs": [],
   "source": [
    "# Using grid search to optimise our model\n",
    "   \n",
    "parameters = {\n",
    "        'tfidf__use_idf': (True, False),\n",
    "        'clf__estimator__n_estimators': [10, 20]\n",
    "}\n",
    "\n",
    "cv = GridSearchCV(pipeline, param_grid = parameters)\n"
   ]
  },
  {
   "cell_type": "markdown",
   "metadata": {},
   "source": [
    "### 7. Test your model\n",
    "Show the accuracy, precision, and recall of the tuned model.  \n",
    "\n",
    "Since this project focuses on code quality, process, and  pipelines, there is no minimum performance metric needed to pass. However, make sure to fine tune your models for accuracy, precision and recall to make your project stand out - especially for your portfolio!"
   ]
  },
  {
   "cell_type": "code",
   "execution_count": null,
   "metadata": {},
   "outputs": [],
   "source": [
    "# Fit the first tuned model\n",
    "cv.fit(X_train, y_train)"
   ]
  },
  {
   "cell_type": "code",
   "execution_count": null,
   "metadata": {},
   "outputs": [],
   "source": [
    "# Predicting using the first tuned model \n",
    "y_pred = cv.predict(X_test)\n",
    "plot_scores(y_test, y_pred)"
   ]
  },
  {
   "cell_type": "markdown",
   "metadata": {},
   "source": [
    "### 8. Try improving your model further. Here are a few ideas:\n",
    "* try other machine learning algorithms\n",
    "* add other features besides the TF-IDF"
   ]
  },
  {
   "cell_type": "code",
   "execution_count": null,
   "metadata": {},
   "outputs": [],
   "source": []
  },
  {
   "cell_type": "markdown",
   "metadata": {},
   "source": [
    "### 9. Export your model as a pickle file"
   ]
  },
  {
   "cell_type": "code",
   "execution_count": null,
   "metadata": {},
   "outputs": [],
   "source": [
    "\n",
    "# Create a pickle file for the model\n",
    "file_name = 'classifier.pkl'\n",
    "with open (file_name, 'wb') as f:\n",
    "    pickle.dump(cv, f)"
   ]
  },
  {
   "cell_type": "markdown",
   "metadata": {},
   "source": [
    "### 10. Use this notebook to complete `train.py`\n",
    "Use the template file attached in the Resources folder to write a script that runs the steps above to create a database and export a model based on a new dataset specified by the user."
   ]
  },
  {
   "cell_type": "code",
   "execution_count": null,
   "metadata": {},
   "outputs": [],
   "source": []
  }
 ],
 "metadata": {
  "kernelspec": {
   "display_name": "Python 3",
   "language": "python",
   "name": "python3"
  },
  "language_info": {
   "codemirror_mode": {
    "name": "ipython",
    "version": 3
   },
   "file_extension": ".py",
   "mimetype": "text/x-python",
   "name": "python",
   "nbconvert_exporter": "python",
   "pygments_lexer": "ipython3",
   "version": "3.6.3"
  }
 },
 "nbformat": 4,
 "nbformat_minor": 2
}
